{
 "cells": [
  {
   "cell_type": "markdown",
   "metadata": {},
   "source": [
    "## Support Vector Machines\n",
    "\n",
    "An intuative white-box method for classification is Support Vector Machines (SVM). The methodology tries to find the best hyperplane seperating two linearly-seperable datasets with the use of a margin between the two sets. If the classes are not seperable linearly kernel methods can be used to obtain a new transformed feature space where they are seperatble linearly.\n",
    "\n",
    "\n",
    "SVMs are inherently binary classifiers. For more classes a meta-classification algorithm has to be employed. E.g. one-versus-all, one-versus-one or binary trees. The rudimentary SVMs also do not allow for outliers.\n",
    "\n",
    "\n",
    "#### 1. Deriving soft-margin SVMs\n",
    "\n",
    "To start applying the SVMs we can start from the initial primal problem of maximizing the margin between the (classifying) hyperplane and the two classes. From this, we can add penalties for misclassifcation which adds to the robustness of the model. Furthermore, we can solve the problem easiest by finding the Lagrange dual function. This will allow us to transform the feature space into a higher-dimensional space where the classes are linearly seperable.\n",
    "\n",
    "\n",
    "$$\n",
    "\\text{max}~\\frac{1}{||\\mathbf{w}||} \\quad \n",
    "\\text{s.t.}~~ y_i(\\mathbf{w}^{\\text{T}}\\mathbf{x}_i + b) \\geq 1 \\quad \\forall i=1,\\ldots,n\n",
    "$$\n",
    "\n",
    "This is equvalently formulated as\n",
    "\n",
    "$$\n",
    "\\text{min}~\\frac{1}{2}\\mathbf{w}^{\\text{T}}\\mathbf{w} \\quad \n",
    "\\text{s.t.}~~ y_i(\\mathbf{w}^{\\text{T}}\\mathbf{x}_i + b) \\geq 1 \\quad \\forall i=1,\\ldots,n\n",
    "$$\n",
    "\n",
    "Allowing margin violations but penalizing it with a violation margin $\\xi_i \\geq 0 $. The total violation is calculated as $C\\sum_{i=1}^{n}\\xi_i$ and is added to the objective/cost function.\n",
    "\n",
    "$$\n",
    "\\text{min}~\\frac{1}{2}\\mathbf{w}^{\\text{T}}\\mathbf{w} + C\\sum_{i=1}^{n}\\xi_i \\quad \n",
    "\\text{s.t.}~~ y_i(\\mathbf{w}^{\\text{T}}\\mathbf{x}_i + b) \\geq 1 - \\xi_i, ~~ \\xi_i \\geq 0 \\quad \\forall i=1,\\ldots,n\n",
    "$$\n",
    "\n",
    "Introducing Lagrange multipliers for every constraint yields the _Lagrangian_:\n",
    "\n",
    "$$\n",
    "\\mathcal{L} = \\frac{1}{2}\\mathbf{w}^{\\text{T}}\\mathbf{w} + C\\sum_{i=1}^{n}\\xi_i \n",
    "+ \\sum_{i=1}^{n}\\lambda_i \\Big[y_i(\\mathbf{w}^{\\text{T}}\\mathbf{x}_i + b) - 1 +\\xi_i \\Big] - \\sum_{i=1}^n \\nu_i \\xi_i\n",
    "$$\n",
    "\n",
    "We need to find the minimize the Lagrangian w.r.t. the primal variables to obtain the Lagrange dual function \n",
    "\n",
    "$$\n",
    "q(\\mathbf{\\lambda}, \\mathbf{\\nu}) = \\inf_{\\mathbf{w}, b, \\mathbf{\\xi}} \\mathcal{L}\n",
    "$$\n",
    "\n",
    "We can simply identify the optimal conditions of $\\mathbf{w}$, $b$ and $\\mathbf{\\xi}$ as:\n",
    "\n",
    "$$\n",
    "\\nabla_{\\mathbf{w}}\\mathcal{L} = \\mathbf{0} \\iff \\mathbf{w} = \\sum_{i=1}^n \\lambda_i y_i \\mathbf{x}_i\n",
    "$$\n",
    "$$\n",
    "\\nabla_{\\mathbf{\\xi}}\\mathcal{L} = \\mathbf{0} \\iff C - \\lambda_i - \\nu_i = 0 \\quad \\forall i=1,\\ldots,n\n",
    "$$\n",
    "$$\n",
    "\\nabla_{b}\\mathcal{L} = 0 \\iff \\sum_{i=1}^n\\lambda_i y_i = 0\n",
    "$$\n",
    "\n",
    "Applying these conditions we obtain the Lagrange dual function and we try to find $\\sup_{\\mathbf{\\lambda}} q(\\mathbf{\\lambda})$:\n",
    "$$\n",
    "\\text{max}~q(\\mathbf{\\lambda}) = \\sum_{i=1}^n \\lambda_i - \\frac{1}{2}\\sum_{i=1}^n\\sum_{j=1}^n \\lambda_i \\lambda_j y_i y_j \\mathbf{x}_i^{\\text{T}}\\mathbf{x}_j ~~ \\text{s.t.} \\sum_{i=1}^n\\lambda_i y_i ~~ \\lambda \\succcurlyeq 0 \n",
    "$$\n",
    "\n",
    "This can be formulated into a Quadratic Programming (QP) problem as follows\n",
    "\n",
    "$$\n",
    "\\text{min}~~ \\mathbf{\\lambda}^{\\text{T}}\\mathbf{Q}\\mathbf{\\lambda} - \\mathbf{1}^{\\text{T}}\\mathbf{\\lambda}\n",
    "\\newline\n",
    "\\text{s.t.} ~~ \\mathbf{y}^{\\text{T}}\\mathbf{\\lambda} = 0\n",
    "\\newline\n",
    "~~~~\\mathbf{\\lambda}  \\succcurlyeq 0 \n",
    "$$\n",
    "\n",
    "#### 2. Adding the Kernel Trick\n",
    "\n",
    "The Kernel Trick is a neat way of applying a non-linear transformation $\\phi: \\mathcal{X} \\to \\mathcal{Z}$ where $\\mathcal{Z}$ can be infinite dimensional. We can perform this transformation without ever transforming the feature vector into the new space. This can be done since we only ever need to take inner products of the feature vectors. Inner products can be efficently calculated without the transformation by the use of Kernel functions. \n",
    "\n",
    "The only difference in the objective/cost functions turns up in the $\\mathbf{Q}$ matrix and how we obtain the predictor function for a given data point. \n",
    "\n",
    "The Kernel of choise will be the Radial Basis Kernel $\\mathcal{K}(\\mathbf{x}, \\mathbf{x}^{\\prime})$ with $\\gamma=\\frac{1}{2}$. \n",
    "\n",
    "#### 3. Setting up One-Versus-All Classifier\n",
    "\n",
    "To limit the scope, the classifier is set to only classify zeros against the rest of the classes."
   ]
  },
  {
   "cell_type": "code",
   "execution_count": 2,
   "metadata": {},
   "outputs": [],
   "source": [
    "import numpy as np\n",
    "\n",
    "from matplotlib import pyplot as plt\n",
    "\n",
    "# Plotting configuration.\n",
    "%config InlineBackend.figure_format = 'retina'\n",
    "plt.style.use(['science', 'notebook', 'grid'])"
   ]
  },
  {
   "cell_type": "code",
   "execution_count": 3,
   "metadata": {},
   "outputs": [],
   "source": [
    "# Importing MNIST dataset. \n",
    "from mnist_utils.data_reader import (TESTING_DATA,\n",
    "                                     TESTING_LABELS,\n",
    "                                     TRAINING_DATA,\n",
    "                                     TRAINING_LABELS)"
   ]
  },
  {
   "cell_type": "code",
   "execution_count": 4,
   "metadata": {},
   "outputs": [],
   "source": [
    "sorted_indecies = np.argsort(TRAINING_LABELS)\n",
    "\n",
    "# Partitioning MNIST dataset on individual digits.\n",
    "TRAINING_LABELS_ZEROS = 1*np.ones(len(sorted_indecies[:5923]))\n",
    "TRAINING_DATA_ZEROS = TRAINING_DATA[sorted_indecies[:5923]]\n",
    "\n",
    "TRAINING_LABELS_ELSE = -1*np.ones(len(sorted_indecies[5924:]))\n",
    "TRAINING_DATA_ELSE = TRAINING_DATA[sorted_indecies[5924:]]"
   ]
  },
  {
   "cell_type": "code",
   "execution_count": 5,
   "metadata": {},
   "outputs": [
    {
     "data": {
      "image/png": "[encoded data removed]",
      "text/plain": [
       "<Figure size 432x288 with 1 Axes>"
      ]
     },
     "metadata": {
      "image/png": {
       "height": 245,
       "width": 248
      },
      "needs_background": "light"
     },
     "output_type": "display_data"
    }
   ],
   "source": [
    "plt.imshow(TRAINING_DATA_ELSE[50000])\n",
    "plt.show()"
   ]
  },
  {
   "cell_type": "code",
   "execution_count": 6,
   "metadata": {},
   "outputs": [],
   "source": [
    "def gaussian_kernel(x: np.array, y: np.array) -> np.array:\n",
    "    delta = x - y\n",
    "    return np.exp(-0.5 * (delta.T @ delta))"
   ]
  },
  {
   "cell_type": "code",
   "execution_count": 7,
   "metadata": {},
   "outputs": [
    {
     "data": {
      "text/plain": [
       "array([[ 1.,  1.,  1., ..., -1., -1., -1.],\n",
       "       [ 1.,  1.,  1., ..., -1., -1., -1.],\n",
       "       [ 1.,  1.,  1., ..., -1., -1., -1.],\n",
       "       ...,\n",
       "       [-1., -1., -1., ...,  1.,  1.,  1.],\n",
       "       [-1., -1., -1., ...,  1.,  1.,  1.],\n",
       "       [-1., -1., -1., ...,  1.,  1.,  1.]])"
      ]
     },
     "execution_count": 7,
     "metadata": {},
     "output_type": "execute_result"
    }
   ],
   "source": [
    "y = np.concatenate((TRAINING_LABELS_ZEROS, TRAINING_LABELS_ELSE))\n",
    "y = np.outer(y, y)\n",
    "y"
   ]
  },
  {
   "cell_type": "code",
   "execution_count": 24,
   "metadata": {},
   "outputs": [],
   "source": [
    "x = np.concatenate((TRAINING_DATA_ZEROS, TRAINING_DATA_ELSE))\n",
    "\n",
    "plt.show()"
   ]
  },
  {
   "cell_type": "code",
   "execution_count": 25,
   "metadata": {},
   "outputs": [],
   "source": [
    "total_matrix = []\n",
    "\n",
    "x1 = np.hstack(x[3])\n",
    "x2 = np.hstack(x[2])\n"
   ]
  },
  {
   "cell_type": "code",
   "execution_count": 26,
   "metadata": {},
   "outputs": [],
   "source": [
    "total_matrix = np.zeros((len(x), len(x)))\n",
    "total_matrix[0][0] = 1"
   ]
  },
  {
   "cell_type": "code",
   "execution_count": 37,
   "metadata": {},
   "outputs": [
    {
     "ename": "KeyboardInterrupt",
     "evalue": "",
     "output_type": "error",
     "traceback": [
      "\u001b[0;31m---------------------------------------------------------------------------\u001b[0m",
      "\u001b[0;31mKeyboardInterrupt\u001b[0m                         Traceback (most recent call last)",
      "\u001b[1;32m/Users/axelnilsson/Documents/Machine Learning/MNIST-from-Scratch/support_vector_machine/support_vector_machine.ipynb Cell 11'\u001b[0m in \u001b[0;36m<cell line: 1>\u001b[0;34m()\u001b[0m\n\u001b[1;32m      <a href='vscode-notebook-cell:/Users/axelnilsson/Documents/Machine%20Learning/MNIST-from-Scratch/support_vector_machine/support_vector_machine.ipynb#ch0000011?line=1'>2</a>\u001b[0m x1 \u001b[39m=\u001b[39m np\u001b[39m.\u001b[39mhstack(x[i])\n\u001b[1;32m      <a href='vscode-notebook-cell:/Users/axelnilsson/Documents/Machine%20Learning/MNIST-from-Scratch/support_vector_machine/support_vector_machine.ipynb#ch0000011?line=2'>3</a>\u001b[0m \u001b[39mfor\u001b[39;00m j \u001b[39min\u001b[39;00m \u001b[39mrange\u001b[39m(\u001b[39mlen\u001b[39m(x)):\n\u001b[0;32m----> <a href='vscode-notebook-cell:/Users/axelnilsson/Documents/Machine%20Learning/MNIST-from-Scratch/support_vector_machine/support_vector_machine.ipynb#ch0000011?line=3'>4</a>\u001b[0m     x2 \u001b[39m=\u001b[39m np\u001b[39m.\u001b[39;49mhstack(x[j])\n\u001b[1;32m      <a href='vscode-notebook-cell:/Users/axelnilsson/Documents/Machine%20Learning/MNIST-from-Scratch/support_vector_machine/support_vector_machine.ipynb#ch0000011?line=4'>5</a>\u001b[0m     total_matrix[i][j] \u001b[39m=\u001b[39m gaussian_kernel(x1, x2)\n",
      "File \u001b[0;32m<__array_function__ internals>:180\u001b[0m, in \u001b[0;36mhstack\u001b[0;34m(*args, **kwargs)\u001b[0m\n",
      "\u001b[0;31mKeyboardInterrupt\u001b[0m: "
     ]
    }
   ],
   "source": [
    "for i in range(len(x)):\n",
    "    x1 = np.hstack(x[i])\n",
    "    for j in range(len(x)):\n",
    "        x2 = np.hstack(x[j])\n",
    "        total_matrix[i][j] = gaussian_kernel(x1, x2)"
   ]
  },
  {
   "cell_type": "code",
   "execution_count": null,
   "metadata": {},
   "outputs": [],
   "source": [
    "for i in range(len(x)):\n",
    "    row = []\n",
    "    temp_x = x[i]\n",
    "    for j in range(len(x)):\n",
    "        temp_y = x[j]\n",
    "        row.append(gaussian_kernel(temp_x, temp_y))\n",
    "    total_matrix.append(row)"
   ]
  }
 ],
 "metadata": {
  "interpreter": {
   "hash": "dff8b73526701c08e8c4b8ff311f76facea885c22db9ac0534f1f6f35e78fb53"
  },
  "kernelspec": {
   "display_name": "Python 3.9.13 ('venv': venv)",
   "language": "python",
   "name": "python3"
  },
  "language_info": {
   "codemirror_mode": {
    "name": "ipython",
    "version": 3
   },
   "file_extension": ".py",
   "mimetype": "text/x-python",
   "name": "python",
   "nbconvert_exporter": "python",
   "pygments_lexer": "ipython3",
   "version": "3.9.13"
  },
  "orig_nbformat": 4
 },
 "nbformat": 4,
 "nbformat_minor": 2
}
